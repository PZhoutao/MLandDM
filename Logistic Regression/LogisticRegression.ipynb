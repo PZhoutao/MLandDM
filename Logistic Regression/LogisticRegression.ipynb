{
 "cells": [
  {
   "cell_type": "markdown",
   "metadata": {},
   "source": [
    "## Logistic Regression\n",
    "python 3.5"
   ]
  },
  {
   "cell_type": "code",
   "execution_count": 1,
   "metadata": {
    "collapsed": true
   },
   "outputs": [],
   "source": [
    "import numpy as np\n",
    "import random\n",
    "import matplotlib.pyplot as plt\n",
    "%matplotlib inline"
   ]
  },
  {
   "cell_type": "code",
   "execution_count": 2,
   "metadata": {
    "collapsed": true
   },
   "outputs": [],
   "source": [
    "def readData(file):\n",
    "    # The data file should only contain tab-separated numbers\n",
    "    # The last item of each line is the label\n",
    "    X = []\n",
    "    labels = []\n",
    "    f = open(file, 'r')\n",
    "    for line in f.readlines():\n",
    "        line = line.strip().split()\n",
    "        X.append([1.0]+[float(x) for x in line[:-1]]) # 1.0 corresponds to intercept\n",
    "        labels.append(int(eval(line[-1])))\n",
    "    return X, labels\n",
    "\n",
    "def sigmoid(x):\n",
    "    return 1/(1+np.exp(-x))\n",
    "\n",
    "def logisticR_SGA(X, labels, epoch=100, batchSize=10, alpha=0.01):\n",
    "    # function to train a logistic regression model through stochastic gradient ascent\n",
    "    XMat = np.mat(X)\n",
    "    labelMat = np.mat(labels).transpose()\n",
    "    n, p = XMat.shape\n",
    "    n_batch = n // batchSize\n",
    "    weights = np.ones((p,1))\n",
    "    logLike = []\n",
    "    idx = list(range(n))\n",
    "    for i in range(epoch):\n",
    "        alpha_batch = alpha/(1+0.01*i) # decrease alpha for each epoch\n",
    "        random.shuffle(idx) # shuffle data\n",
    "        for j in range(n_batch):\n",
    "            idx_batch = idx[(j*batchSize):((j+1)*batchSize)]\n",
    "            XMat_batch = XMat[idx_batch]\n",
    "            labelMat_batch = labelMat[idx_batch]\n",
    "            h_batch = sigmoid(XMat_batch*weights)\n",
    "            error = labelMat_batch - h_batch\n",
    "            weights = weights + alpha_batch*XMat_batch.transpose()*error\n",
    "        if n % batchSize != 0:\n",
    "            idx_batch = idx[(n_batch*batchSize):]\n",
    "            XMat_batch = XMat[idx_batch]\n",
    "            labelMat_batch = labelMat[idx_batch]\n",
    "            h_batch = sigmoid(XMat_batch*weights)\n",
    "            error = labelMat_batch - h_batch\n",
    "            weights = weights + alpha_batch*XMat_batch.transpose()*error\n",
    "        h = sigmoid(XMat*weights)\n",
    "        ll = labelMat.transpose()*h + (1-labelMat).transpose()*(1-h)\n",
    "        logLike.append(ll[0,0])\n",
    "    plt.plot(np.arange(0, epoch, 1), np.array(logLike))\n",
    "    plt.xlabel(\"epoch\")\n",
    "    plt.ylabel(\"log-likelihood\")    \n",
    "    return weights  \n",
    "\n",
    "def predict(testX, weights):\n",
    "    testXMat = np.mat(testX)\n",
    "    prob = sigmoid(testXMat*weights)\n",
    "    prob = prob.getA()[:,0]\n",
    "    return (prob > 0.5).astype(int)"
   ]
  },
  {
   "cell_type": "markdown",
   "metadata": {},
   "source": [
    "### Test model"
   ]
  },
  {
   "cell_type": "code",
   "execution_count": 3,
   "metadata": {
    "collapsed": false
   },
   "outputs": [],
   "source": [
    "# data come from Peter Harrington's \"Machine Learning in Action\"\n",
    "trainX, trainLabel = readData('Train.txt')\n",
    "testX, testLabel = readData('Test.txt')"
   ]
  },
  {
   "cell_type": "code",
   "execution_count": 4,
   "metadata": {
    "collapsed": false
   },
   "outputs": [
    {
     "data": {
      "image/png": "[encoded data removed]",
      "text/plain": [
       "<matplotlib.figure.Figure at 0x7fbe44306358>"
      ]
     },
     "metadata": {},
     "output_type": "display_data"
    }
   ],
   "source": [
    "lr_weights = logisticR_SGA(trainX, trainLabel, epoch=4000, alpha=0.0001)"
   ]
  },
  {
   "cell_type": "code",
   "execution_count": 5,
   "metadata": {
    "collapsed": false
   },
   "outputs": [
    {
     "name": "stdout",
     "output_type": "stream",
     "text": [
      "Accuracy on test data is 0.761\n"
     ]
    }
   ],
   "source": [
    "pred = predict(testX, lr_weights)\n",
    "print(\"Accuracy on test data is %4.3f\" % (sum(pred == np.array(testLabel))/len(testLabel)))"
   ]
  },
  {
   "cell_type": "code",
   "execution_count": null,
   "metadata": {
    "collapsed": true
   },
   "outputs": [],
   "source": []
  }
 ],
 "metadata": {
  "anaconda-cloud": {},
  "kernelspec": {
   "display_name": "Python [Root]",
   "language": "python",
   "name": "Python [Root]"
  },
  "language_info": {
   "codemirror_mode": {
    "name": "ipython",
    "version": 3
   },
   "file_extension": ".py",
   "mimetype": "text/x-python",
   "name": "python",
   "nbconvert_exporter": "python",
   "pygments_lexer": "ipython3",
   "version": "3.5.2"
  }
 },
 "nbformat": 4,
 "nbformat_minor": 0
}
